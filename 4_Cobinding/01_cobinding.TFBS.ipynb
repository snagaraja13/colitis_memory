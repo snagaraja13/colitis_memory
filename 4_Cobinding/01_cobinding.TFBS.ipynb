{
 "cells": [
  {
   "cell_type": "code",
   "execution_count": 1,
   "id": "305638c6-208e-4eb4-b187-059abfae82d6",
   "metadata": {},
   "outputs": [],
   "source": [
    "%load_ext autoreload\n",
    "%autoreload 2\n",
    "    \n",
    "import scprinter as scp\n",
    "import pandas as pd\n",
    "import seaborn as sns\n",
    "import matplotlib.pyplot as plt\n",
    "import time\n",
    "import pandas as pd\n",
    "import numpy as np\n",
    "import os\n",
    "import pickle\n",
    "import torch\n",
    "import matplotlib as mpl\n",
    "import h5py\n",
    "mpl.rcParams['pdf.fonttype'] = 42"
   ]
  },
  {
   "cell_type": "code",
   "execution_count": 9,
   "id": "d09b4250-deab-4e2b-a899-342af1a3f90a",
   "metadata": {},
   "outputs": [],
   "source": [
    "work_dir = '/ewsc/rzhang/colitisDSS/tissue'\n",
    "meta = 'DSS-prim-merge10-ATAC.qc_stats.singlet_epi_only.txt'\n",
    "frags = 'DSS-prim-merge10-ATAC.reshift.fragments.tsv.gz'\n",
    "peak = 'DSS-prim-merge10-ATAC.cleanPeaks.fixedwidthpeaks_800bp_300reSized.bed'"
   ]
  },
  {
   "cell_type": "code",
   "execution_count": 10,
   "id": "762cbfb9-3ca8-4496-9044-91d4e239f8fc",
   "metadata": {
    "scrolled": true
   },
   "outputs": [],
   "source": [
    "meta = pd.read_csv(os.path.join(work_dir, meta), sep='\\t')\n",
    "# meta = meta[meta['P5'] != 'P1.62-2']\n",
    "meta\n",
    "batchmapping = {'DSS04':1, 'DSS05':1, 'DSS15':2,  'DSS16':2, 'DSS17':3,  'DSS18':3}\n",
    "meta['sample_id'] = [f'{xx}_{batchmapping[yy]}' if xx == 'Control' else xx for xx,yy in zip(meta['sample'], meta['batch'])]"
   ]
  },
  {
   "cell_type": "code",
   "execution_count": null,
   "id": "0aa8f4ff-5c48-4c57-bd89-b763dd9d16dc",
   "metadata": {},
   "outputs": [],
   "source": [
    "import scprinter as scp\n",
    "import time\n",
    "start = time.time()\n",
    "if os.path.exists(os.path.join(work_dir, 'scprinter.h5ad')):\n",
    "    printer = scp.load_printer(os.path.join(work_dir, 'scprinter.h5ad'), scp.genome.mm10)\n",
    "else:\n",
    "    printer = scp.pp.import_fragments(\n",
    "                        pathToFrags= os.path.join(work_dir, frags),\n",
    "                        barcodes=np.unique(meta['barcode']),\n",
    "                        savename=os.path.join(work_dir, 'scprinter.h5ad'),\n",
    "                        genome=scp.genome.mm10,\n",
    "                        min_num_fragments=0, min_tsse=0,\n",
    "                        sorted_by_barcode=False, \n",
    "                        low_memory=False,\n",
    "                        )\n",
    "print (\"takes\", time.time()-start)"
   ]
  },
  {
   "cell_type": "markdown",
   "id": "deb6a729-b720-4b73-929b-05544673268f",
   "metadata": {
    "jp-MarkdownHeadingCollapsed": true
   },
   "source": [
    "# training seq2PRINT"
   ]
  },
  {
   "cell_type": "code",
   "execution_count": 24,
   "id": "48d34c2c-c28f-43c4-8a47-e5d18903c550",
   "metadata": {
    "scrolled": true
   },
   "outputs": [
    {
     "name": "stderr",
     "output_type": "stream",
     "text": [
      "INFO  @ Fri, 19 Jul 2024 19:18:06: \n",
      "# Command line: callpeak --nomodel -t /data/rzhang/data_15/colitisDSS/tissue/scprinter_supp/all_filtered_frag.tsv.gz --outdir /data/rzhang/data_15/colitisDSS/tissue/scprinter_supp/macs2 -n all -f BEDPE --nolambda --keep-dup all --call-summits --nomodel -B --SPMR --shift 75 --extsize 150 -p 0.01\n",
      "# ARGUMENTS LIST:\n",
      "# name = all\n",
      "# format = BEDPE\n",
      "# ChIP-seq file = ['/data/rzhang/data_15/colitisDSS/tissue/scprinter_supp/all_filtered_frag.tsv.gz']\n",
      "# control file = None\n",
      "# effective genome size = 2.70e+09\n",
      "# band width = 300\n",
      "# model fold = [5, 50]\n",
      "# pvalue cutoff = 1.00e-02\n",
      "# qvalue will not be calculated and reported as -1 in the final output.\n",
      "# The maximum gap between significant sites is assigned as the read length/tag size.\n",
      "# The minimum length of peaks is assigned as the predicted fragment length \"d\".\n",
      "# Larger dataset will be scaled towards smaller dataset.\n",
      "# Range for calculating regional lambda is: 10000 bps\n",
      "# Broad region calling is off\n",
      "# Paired-End mode is on\n",
      "# Searching for subpeak summits is on\n",
      "# MACS will save fragment pileup signal per million reads\n",
      " \n",
      "INFO  @ Fri, 19 Jul 2024 19:18:06: #1 read fragment files... \n",
      "INFO  @ Fri, 19 Jul 2024 19:18:06: #1 read treatment fragments... \n",
      "INFO  @ Fri, 19 Jul 2024 19:18:07:  1000000 \n",
      "INFO  @ Fri, 19 Jul 2024 19:18:08:  2000000 \n",
      "INFO  @ Fri, 19 Jul 2024 19:18:09:  3000000 \n",
      "INFO  @ Fri, 19 Jul 2024 19:18:10:  4000000 \n",
      "INFO  @ Fri, 19 Jul 2024 19:18:11:  5000000 \n",
      "INFO  @ Fri, 19 Jul 2024 19:18:12:  6000000 \n",
      "INFO  @ Fri, 19 Jul 2024 19:18:13:  7000000 \n",
      "INFO  @ Fri, 19 Jul 2024 19:18:14:  8000000 \n",
      "INFO  @ Fri, 19 Jul 2024 19:18:15:  9000000 \n",
      "INFO  @ Fri, 19 Jul 2024 19:18:16:  10000000 \n",
      "INFO  @ Fri, 19 Jul 2024 19:18:17:  11000000 \n",
      "INFO  @ Fri, 19 Jul 2024 19:18:18:  12000000 \n",
      "INFO  @ Fri, 19 Jul 2024 19:18:19:  13000000 \n",
      "INFO  @ Fri, 19 Jul 2024 19:18:20:  14000000 \n",
      "INFO  @ Fri, 19 Jul 2024 19:18:21:  15000000 \n",
      "INFO  @ Fri, 19 Jul 2024 19:18:22:  16000000 \n",
      "INFO  @ Fri, 19 Jul 2024 19:18:22:  17000000 \n",
      "INFO  @ Fri, 19 Jul 2024 19:18:23:  18000000 \n",
      "INFO  @ Fri, 19 Jul 2024 19:18:24:  19000000 \n",
      "INFO  @ Fri, 19 Jul 2024 19:18:25:  20000000 \n",
      "INFO  @ Fri, 19 Jul 2024 19:18:26:  21000000 \n",
      "INFO  @ Fri, 19 Jul 2024 19:18:27:  22000000 \n",
      "INFO  @ Fri, 19 Jul 2024 19:18:28:  23000000 \n",
      "INFO  @ Fri, 19 Jul 2024 19:18:29:  24000000 \n",
      "INFO  @ Fri, 19 Jul 2024 19:18:30:  25000000 \n",
      "INFO  @ Fri, 19 Jul 2024 19:18:31:  26000000 \n",
      "INFO  @ Fri, 19 Jul 2024 19:18:32:  27000000 \n",
      "INFO  @ Fri, 19 Jul 2024 19:18:33:  28000000 \n",
      "INFO  @ Fri, 19 Jul 2024 19:18:34:  29000000 \n",
      "INFO  @ Fri, 19 Jul 2024 19:18:35:  30000000 \n",
      "INFO  @ Fri, 19 Jul 2024 19:18:36:  31000000 \n",
      "INFO  @ Fri, 19 Jul 2024 19:18:37:  32000000 \n",
      "INFO  @ Fri, 19 Jul 2024 19:18:38:  33000000 \n",
      "INFO  @ Fri, 19 Jul 2024 19:18:38:  34000000 \n",
      "INFO  @ Fri, 19 Jul 2024 19:18:39:  35000000 \n",
      "INFO  @ Fri, 19 Jul 2024 19:18:40:  36000000 \n",
      "INFO  @ Fri, 19 Jul 2024 19:18:41:  37000000 \n",
      "INFO  @ Fri, 19 Jul 2024 19:18:42:  38000000 \n",
      "INFO  @ Fri, 19 Jul 2024 19:18:43:  39000000 \n",
      "INFO  @ Fri, 19 Jul 2024 19:18:44:  40000000 \n",
      "INFO  @ Fri, 19 Jul 2024 19:18:45:  41000000 \n",
      "INFO  @ Fri, 19 Jul 2024 19:18:46:  42000000 \n",
      "INFO  @ Fri, 19 Jul 2024 19:18:47:  43000000 \n",
      "INFO  @ Fri, 19 Jul 2024 19:18:48:  44000000 \n",
      "INFO  @ Fri, 19 Jul 2024 19:18:49:  45000000 \n",
      "INFO  @ Fri, 19 Jul 2024 19:18:50:  46000000 \n",
      "INFO  @ Fri, 19 Jul 2024 19:18:51:  47000000 \n",
      "INFO  @ Fri, 19 Jul 2024 19:18:52:  48000000 \n",
      "INFO  @ Fri, 19 Jul 2024 19:18:52:  49000000 \n",
      "INFO  @ Fri, 19 Jul 2024 19:18:53:  50000000 \n",
      "INFO  @ Fri, 19 Jul 2024 19:18:54:  51000000 \n",
      "INFO  @ Fri, 19 Jul 2024 19:18:55:  52000000 \n",
      "INFO  @ Fri, 19 Jul 2024 19:18:56:  53000000 \n",
      "INFO  @ Fri, 19 Jul 2024 19:18:57:  54000000 \n",
      "INFO  @ Fri, 19 Jul 2024 19:18:58:  55000000 \n",
      "INFO  @ Fri, 19 Jul 2024 19:18:59:  56000000 \n",
      "INFO  @ Fri, 19 Jul 2024 19:19:00:  57000000 \n",
      "INFO  @ Fri, 19 Jul 2024 19:19:01:  58000000 \n",
      "INFO  @ Fri, 19 Jul 2024 19:19:02:  59000000 \n",
      "INFO  @ Fri, 19 Jul 2024 19:19:03:  60000000 \n",
      "INFO  @ Fri, 19 Jul 2024 19:19:04:  61000000 \n",
      "INFO  @ Fri, 19 Jul 2024 19:19:05:  62000000 \n",
      "INFO  @ Fri, 19 Jul 2024 19:19:06:  63000000 \n",
      "INFO  @ Fri, 19 Jul 2024 19:19:07:  64000000 \n",
      "INFO  @ Fri, 19 Jul 2024 19:19:08:  65000000 \n",
      "INFO  @ Fri, 19 Jul 2024 19:19:09:  66000000 \n",
      "INFO  @ Fri, 19 Jul 2024 19:19:10:  67000000 \n",
      "INFO  @ Fri, 19 Jul 2024 19:19:10:  68000000 \n",
      "INFO  @ Fri, 19 Jul 2024 19:19:11:  69000000 \n",
      "INFO  @ Fri, 19 Jul 2024 19:19:12:  70000000 \n",
      "INFO  @ Fri, 19 Jul 2024 19:19:13:  71000000 \n",
      "INFO  @ Fri, 19 Jul 2024 19:19:14:  72000000 \n",
      "INFO  @ Fri, 19 Jul 2024 19:19:15:  73000000 \n",
      "INFO  @ Fri, 19 Jul 2024 19:19:16:  74000000 \n",
      "INFO  @ Fri, 19 Jul 2024 19:19:17:  75000000 \n",
      "INFO  @ Fri, 19 Jul 2024 19:19:18:  76000000 \n",
      "INFO  @ Fri, 19 Jul 2024 19:19:19:  77000000 \n",
      "INFO  @ Fri, 19 Jul 2024 19:19:20:  78000000 \n",
      "INFO  @ Fri, 19 Jul 2024 19:19:21:  79000000 \n",
      "INFO  @ Fri, 19 Jul 2024 19:19:22:  80000000 \n",
      "INFO  @ Fri, 19 Jul 2024 19:19:23:  81000000 \n",
      "INFO  @ Fri, 19 Jul 2024 19:19:24:  82000000 \n",
      "INFO  @ Fri, 19 Jul 2024 19:19:25:  83000000 \n",
      "INFO  @ Fri, 19 Jul 2024 19:19:26:  84000000 \n",
      "INFO  @ Fri, 19 Jul 2024 19:19:26:  85000000 \n",
      "INFO  @ Fri, 19 Jul 2024 19:19:27:  86000000 \n",
      "INFO  @ Fri, 19 Jul 2024 19:19:28:  87000000 \n",
      "INFO  @ Fri, 19 Jul 2024 19:19:29:  88000000 \n",
      "INFO  @ Fri, 19 Jul 2024 19:19:30:  89000000 \n",
      "INFO  @ Fri, 19 Jul 2024 19:19:31:  90000000 \n",
      "INFO  @ Fri, 19 Jul 2024 19:19:32:  91000000 \n",
      "INFO  @ Fri, 19 Jul 2024 19:19:33:  92000000 \n",
      "INFO  @ Fri, 19 Jul 2024 19:19:34:  93000000 \n",
      "INFO  @ Fri, 19 Jul 2024 19:19:35:  94000000 \n",
      "INFO  @ Fri, 19 Jul 2024 19:19:36:  95000000 \n",
      "INFO  @ Fri, 19 Jul 2024 19:19:37:  96000000 \n",
      "INFO  @ Fri, 19 Jul 2024 19:19:38:  97000000 \n",
      "INFO  @ Fri, 19 Jul 2024 19:19:39:  98000000 \n",
      "INFO  @ Fri, 19 Jul 2024 19:19:40:  99000000 \n",
      "INFO  @ Fri, 19 Jul 2024 19:19:41:  100000000 \n",
      "INFO  @ Fri, 19 Jul 2024 19:19:42:  101000000 \n",
      "INFO  @ Fri, 19 Jul 2024 19:19:43:  102000000 \n",
      "INFO  @ Fri, 19 Jul 2024 19:19:43:  103000000 \n",
      "INFO  @ Fri, 19 Jul 2024 19:19:44:  104000000 \n",
      "INFO  @ Fri, 19 Jul 2024 19:19:45:  105000000 \n",
      "INFO  @ Fri, 19 Jul 2024 19:19:46:  106000000 \n",
      "INFO  @ Fri, 19 Jul 2024 19:19:47:  107000000 \n",
      "INFO  @ Fri, 19 Jul 2024 19:19:48:  108000000 \n",
      "INFO  @ Fri, 19 Jul 2024 19:19:49:  109000000 \n",
      "INFO  @ Fri, 19 Jul 2024 19:19:50:  110000000 \n",
      "INFO  @ Fri, 19 Jul 2024 19:19:51:  111000000 \n",
      "INFO  @ Fri, 19 Jul 2024 19:19:52:  112000000 \n",
      "INFO  @ Fri, 19 Jul 2024 19:19:53:  113000000 \n",
      "INFO  @ Fri, 19 Jul 2024 19:19:54:  114000000 \n",
      "INFO  @ Fri, 19 Jul 2024 19:19:55:  115000000 \n",
      "INFO  @ Fri, 19 Jul 2024 19:19:56:  116000000 \n",
      "INFO  @ Fri, 19 Jul 2024 19:19:57:  117000000 \n",
      "INFO  @ Fri, 19 Jul 2024 19:19:57:  118000000 \n",
      "INFO  @ Fri, 19 Jul 2024 19:19:58:  119000000 \n",
      "INFO  @ Fri, 19 Jul 2024 19:19:59:  120000000 \n",
      "INFO  @ Fri, 19 Jul 2024 19:20:00:  121000000 \n",
      "INFO  @ Fri, 19 Jul 2024 19:20:01:  122000000 \n",
      "INFO  @ Fri, 19 Jul 2024 19:20:02:  123000000 \n",
      "INFO  @ Fri, 19 Jul 2024 19:20:03:  124000000 \n",
      "INFO  @ Fri, 19 Jul 2024 19:20:04:  125000000 \n",
      "INFO  @ Fri, 19 Jul 2024 19:20:05:  126000000 \n",
      "INFO  @ Fri, 19 Jul 2024 19:20:06:  127000000 \n",
      "INFO  @ Fri, 19 Jul 2024 19:20:07:  128000000 \n",
      "INFO  @ Fri, 19 Jul 2024 19:21:08: #1 mean fragment size is determined as 242.8 bp from treatment \n",
      "INFO  @ Fri, 19 Jul 2024 19:21:08: #1 fragment size = 242.8 \n",
      "INFO  @ Fri, 19 Jul 2024 19:21:08: #1  total fragments in treatment: 128499932 \n",
      "INFO  @ Fri, 19 Jul 2024 19:21:08: #1 finished! \n",
      "INFO  @ Fri, 19 Jul 2024 19:21:08: #2 Build Peak Model... \n",
      "INFO  @ Fri, 19 Jul 2024 19:21:08: #2 Skipped... \n",
      "INFO  @ Fri, 19 Jul 2024 19:21:08: #3 Call peaks... \n",
      "INFO  @ Fri, 19 Jul 2024 19:21:08: # local lambda is disabled! \n",
      "INFO  @ Fri, 19 Jul 2024 19:21:08: #3 !!!! DYNAMIC LAMBDA IS DISABLED !!!! \n",
      "INFO  @ Fri, 19 Jul 2024 19:21:08: #3 Going to call summits inside each peak ... \n",
      "INFO  @ Fri, 19 Jul 2024 19:21:08: #3 Call peaks with given -log10pvalue cutoff: 2.00000 ... \n",
      "INFO  @ Fri, 19 Jul 2024 19:21:08: #3 Pre-compute pvalue-qvalue table... \n",
      "INFO  @ Fri, 19 Jul 2024 19:21:48: #3 In the peak calling step, the following will be performed simultaneously: \n",
      "INFO  @ Fri, 19 Jul 2024 19:21:48: #3   Write bedGraph files for treatment pileup (after scaling if necessary)... all_treat_pileup.bdg \n",
      "INFO  @ Fri, 19 Jul 2024 19:21:48: #3   Write bedGraph files for control lambda (after scaling if necessary)... all_control_lambda.bdg \n",
      "INFO  @ Fri, 19 Jul 2024 19:21:48: #3   --SPMR is requested, so pileup will be normalized by sequencing depth in million reads. \n",
      "INFO  @ Fri, 19 Jul 2024 19:21:48: #3 Call peaks for each chromosome... \n",
      "INFO  @ Fri, 19 Jul 2024 19:24:11: #4 Write output xls file... /data/rzhang/data_15/colitisDSS/tissue/scprinter_supp/macs2/all_peaks.xls \n",
      "INFO  @ Fri, 19 Jul 2024 19:24:11: #4 Write peak in narrowPeak format file... /data/rzhang/data_15/colitisDSS/tissue/scprinter_supp/macs2/all_peaks.narrowPeak \n",
      "INFO  @ Fri, 19 Jul 2024 19:24:12: #4 Write summits bed file... /data/rzhang/data_15/colitisDSS/tissue/scprinter_supp/macs2/all_summits.bed \n",
      "INFO  @ Fri, 19 Jul 2024 19:24:12: Done! \n"
     ]
    },
    {
     "name": "stdout",
     "output_type": "stream",
     "text": [
      "Reading in peak summit file(s):\n",
      "NOTE: Assuming all start coordinates are 0-based ..\n",
      "\n",
      "Padding peak summits by: 500 bp on either side for\n",
      "Removing peaks overlapping with blacklisted regions and out of bound peaks based on chromosome sizes ..\n",
      "\n",
      "Filtering overlapping peaks based on peak summit score ..\n",
      "round: 1 216586 peaks unresolved 215609 peaks selected\n",
      "round: 2 25 peaks unresolved 25 peaks selected\n",
      "finish clearing\n",
      "finish sorting\n",
      "finished summary\n"
     ]
    }
   ],
   "source": [
    "scp.pp.call_peaks(printer, \n",
    "                  os.path.join(work_dir, frags),\n",
    "                  [list(printer.obs_names)], ['all'], preset='seq2PRINT')"
   ]
  },
  {
   "cell_type": "code",
   "execution_count": 25,
   "id": "0baed69a-0de9-405f-92db-c279aaeb598a",
   "metadata": {},
   "outputs": [
    {
     "data": {
      "text/html": [
       "<div>\n",
       "<style scoped>\n",
       "    .dataframe tbody tr th:only-of-type {\n",
       "        vertical-align: middle;\n",
       "    }\n",
       "\n",
       "    .dataframe tbody tr th {\n",
       "        vertical-align: top;\n",
       "    }\n",
       "\n",
       "    .dataframe thead th {\n",
       "        text-align: right;\n",
       "    }\n",
       "</style>\n",
       "<table border=\"1\" class=\"dataframe\">\n",
       "  <thead>\n",
       "    <tr style=\"text-align: right;\">\n",
       "      <th></th>\n",
       "      <th>0</th>\n",
       "      <th>1</th>\n",
       "      <th>2</th>\n",
       "      <th>3</th>\n",
       "      <th>4</th>\n",
       "      <th>5</th>\n",
       "      <th>6</th>\n",
       "      <th>7</th>\n",
       "    </tr>\n",
       "  </thead>\n",
       "  <tbody>\n",
       "    <tr>\n",
       "      <th>0</th>\n",
       "      <td>chr1</td>\n",
       "      <td>3426703</td>\n",
       "      <td>3427703</td>\n",
       "      <td>all_peak_1</td>\n",
       "      <td>29.8425</td>\n",
       "      <td>29.8425</td>\n",
       "      <td>all</td>\n",
       "      <td>70411</td>\n",
       "    </tr>\n",
       "    <tr>\n",
       "      <th>1</th>\n",
       "      <td>chr1</td>\n",
       "      <td>3465776</td>\n",
       "      <td>3466776</td>\n",
       "      <td>all_peak_2</td>\n",
       "      <td>2.1032</td>\n",
       "      <td>2.1032</td>\n",
       "      <td>all</td>\n",
       "      <td>209885</td>\n",
       "    </tr>\n",
       "    <tr>\n",
       "      <th>2</th>\n",
       "      <td>chr1</td>\n",
       "      <td>3485023</td>\n",
       "      <td>3486023</td>\n",
       "      <td>all_peak_3</td>\n",
       "      <td>16.8993</td>\n",
       "      <td>16.8993</td>\n",
       "      <td>all</td>\n",
       "      <td>89432</td>\n",
       "    </tr>\n",
       "    <tr>\n",
       "      <th>3</th>\n",
       "      <td>chr1</td>\n",
       "      <td>3494744</td>\n",
       "      <td>3495744</td>\n",
       "      <td>all_peak_4a</td>\n",
       "      <td>23.0816</td>\n",
       "      <td>23.0816</td>\n",
       "      <td>all</td>\n",
       "      <td>78357</td>\n",
       "    </tr>\n",
       "    <tr>\n",
       "      <th>4</th>\n",
       "      <td>chr1</td>\n",
       "      <td>3495311</td>\n",
       "      <td>3496311</td>\n",
       "      <td>all_peak_4b</td>\n",
       "      <td>8.67919</td>\n",
       "      <td>8.67919</td>\n",
       "      <td>all</td>\n",
       "      <td>117690</td>\n",
       "    </tr>\n",
       "    <tr>\n",
       "      <th>...</th>\n",
       "      <td>...</td>\n",
       "      <td>...</td>\n",
       "      <td>...</td>\n",
       "      <td>...</td>\n",
       "      <td>...</td>\n",
       "      <td>...</td>\n",
       "      <td>...</td>\n",
       "      <td>...</td>\n",
       "    </tr>\n",
       "    <tr>\n",
       "      <th>215629</th>\n",
       "      <td>chrX</td>\n",
       "      <td>169934326</td>\n",
       "      <td>169935326</td>\n",
       "      <td>all_peak_124842b</td>\n",
       "      <td>12.5533</td>\n",
       "      <td>12.5533</td>\n",
       "      <td>all</td>\n",
       "      <td>101536</td>\n",
       "    </tr>\n",
       "    <tr>\n",
       "      <th>215630</th>\n",
       "      <td>chrX</td>\n",
       "      <td>169936775</td>\n",
       "      <td>169937775</td>\n",
       "      <td>all_peak_124843</td>\n",
       "      <td>20.2573</td>\n",
       "      <td>20.2573</td>\n",
       "      <td>all</td>\n",
       "      <td>83628</td>\n",
       "    </tr>\n",
       "    <tr>\n",
       "      <th>215631</th>\n",
       "      <td>chrX</td>\n",
       "      <td>169940415</td>\n",
       "      <td>169941415</td>\n",
       "      <td>all_peak_124844a</td>\n",
       "      <td>5.79681</td>\n",
       "      <td>5.79681</td>\n",
       "      <td>all</td>\n",
       "      <td>140852</td>\n",
       "    </tr>\n",
       "    <tr>\n",
       "      <th>215632</th>\n",
       "      <td>chrX</td>\n",
       "      <td>169940648</td>\n",
       "      <td>169941648</td>\n",
       "      <td>all_peak_124844b</td>\n",
       "      <td>6.70834</td>\n",
       "      <td>6.70834</td>\n",
       "      <td>all</td>\n",
       "      <td>129998</td>\n",
       "    </tr>\n",
       "    <tr>\n",
       "      <th>215633</th>\n",
       "      <td>chrX</td>\n",
       "      <td>169960728</td>\n",
       "      <td>169961728</td>\n",
       "      <td>all_peak_124845</td>\n",
       "      <td>6.70834</td>\n",
       "      <td>6.70834</td>\n",
       "      <td>all</td>\n",
       "      <td>130810</td>\n",
       "    </tr>\n",
       "  </tbody>\n",
       "</table>\n",
       "<p>215634 rows × 8 columns</p>\n",
       "</div>"
      ],
      "text/plain": [
       "           0          1          2                 3        4        5    6  \\\n",
       "0       chr1    3426703    3427703        all_peak_1  29.8425  29.8425  all   \n",
       "1       chr1    3465776    3466776        all_peak_2   2.1032   2.1032  all   \n",
       "2       chr1    3485023    3486023        all_peak_3  16.8993  16.8993  all   \n",
       "3       chr1    3494744    3495744       all_peak_4a  23.0816  23.0816  all   \n",
       "4       chr1    3495311    3496311       all_peak_4b  8.67919  8.67919  all   \n",
       "...      ...        ...        ...               ...      ...      ...  ...   \n",
       "215629  chrX  169934326  169935326  all_peak_124842b  12.5533  12.5533  all   \n",
       "215630  chrX  169936775  169937775   all_peak_124843  20.2573  20.2573  all   \n",
       "215631  chrX  169940415  169941415  all_peak_124844a  5.79681  5.79681  all   \n",
       "215632  chrX  169940648  169941648  all_peak_124844b  6.70834  6.70834  all   \n",
       "215633  chrX  169960728  169961728   all_peak_124845  6.70834  6.70834  all   \n",
       "\n",
       "             7  \n",
       "0        70411  \n",
       "1       209885  \n",
       "2        89432  \n",
       "3        78357  \n",
       "4       117690  \n",
       "...        ...  \n",
       "215629  101536  \n",
       "215630   83628  \n",
       "215631  140852  \n",
       "215632  129998  \n",
       "215633  130810  \n",
       "\n",
       "[215634 rows x 8 columns]"
      ]
     },
     "execution_count": 25,
     "metadata": {},
     "output_type": "execute_result"
    }
   ],
   "source": [
    "cleaned_peaks = pd.DataFrame(printer.uns[\"peak_calling\"]['all_cleaned'][:])\n",
    "cleaned_peaks.to_csv(f'{work_dir}/cleaned_narrowPeak.bed', \n",
    "                     sep='\\t', header=False, index=False)\n",
    "cleaned_peaks"
   ]
  },
  {
   "cell_type": "code",
   "execution_count": 35,
   "id": "83cad10e-9a06-422d-9dc1-4e6563c38f86",
   "metadata": {},
   "outputs": [],
   "source": [
    "cell_types = []\n",
    "bcs = []\n",
    "for ct in meta['sample_id'].unique():\n",
    "    cell_types.append(ct)\n",
    "    bcs.append(list(meta[meta['sample_id'] == ct]['barcode']))"
   ]
  },
  {
   "cell_type": "code",
   "execution_count": 47,
   "id": "5307f65d-926d-4797-bc66-a6a361168821",
   "metadata": {},
   "outputs": [
    {
     "name": "stdout",
     "output_type": "stream",
     "text": [
      "Creating bigwig for Colitis_healing\n"
     ]
    },
    {
     "data": {
      "application/vnd.jupyter.widget-view+json": {
       "model_id": "a19a0f55abef456aa07de88b05cb82ea",
       "version_major": 2,
       "version_minor": 0
      },
      "text/plain": [
       "  0%|          | 0/21 [00:00<?, ?it/s]"
      ]
     },
     "metadata": {},
     "output_type": "display_data"
    },
    {
     "name": "stdout",
     "output_type": "stream",
     "text": [
      "Creating bigwig for Control_1\n"
     ]
    },
    {
     "data": {
      "application/vnd.jupyter.widget-view+json": {
       "model_id": "09a0067df3dd46b2bf2c844dfdf418d5",
       "version_major": 2,
       "version_minor": 0
      },
      "text/plain": [
       "  0%|          | 0/21 [00:00<?, ?it/s]"
      ]
     },
     "metadata": {},
     "output_type": "display_data"
    },
    {
     "name": "stdout",
     "output_type": "stream",
     "text": [
      "Creating bigwig for Colitis_recovered\n"
     ]
    },
    {
     "data": {
      "application/vnd.jupyter.widget-view+json": {
       "model_id": "d6c50dc865314c66908c8ffaf70511af",
       "version_major": 2,
       "version_minor": 0
      },
      "text/plain": [
       "  0%|          | 0/21 [00:00<?, ?it/s]"
      ]
     },
     "metadata": {},
     "output_type": "display_data"
    },
    {
     "name": "stdout",
     "output_type": "stream",
     "text": [
      "Creating bigwig for Control_2\n"
     ]
    },
    {
     "data": {
      "application/vnd.jupyter.widget-view+json": {
       "model_id": "c14cf3f0a16341de9e69c6b1f9304c24",
       "version_major": 2,
       "version_minor": 0
      },
      "text/plain": [
       "  0%|          | 0/21 [00:00<?, ?it/s]"
      ]
     },
     "metadata": {},
     "output_type": "display_data"
    },
    {
     "name": "stdout",
     "output_type": "stream",
     "text": [
      "Creating bigwig for Colitis_acute\n"
     ]
    },
    {
     "data": {
      "application/vnd.jupyter.widget-view+json": {
       "model_id": "ec79410495ae4e019eff44693530c420",
       "version_major": 2,
       "version_minor": 0
      },
      "text/plain": [
       "  0%|          | 0/21 [00:00<?, ?it/s]"
      ]
     },
     "metadata": {},
     "output_type": "display_data"
    },
    {
     "name": "stdout",
     "output_type": "stream",
     "text": [
      "Creating bigwig for Control_3\n"
     ]
    },
    {
     "data": {
      "application/vnd.jupyter.widget-view+json": {
       "model_id": "0bca6169bab64d6ba889122b4c60cb53",
       "version_major": 2,
       "version_minor": 0
      },
      "text/plain": [
       "  0%|          | 0/21 [00:00<?, ?it/s]"
      ]
     },
     "metadata": {},
     "output_type": "display_data"
    },
    {
     "name": "stdout",
     "output_type": "stream",
     "text": [
      "bigwig for Colitis_healing already exists, skip\n",
      "bigwig for Control_1 already exists, skip\n",
      "bigwig for Colitis_recovered already exists, skip\n",
      "bigwig for Control_2 already exists, skip\n",
      "bigwig for Colitis_acute already exists, skip\n",
      "bigwig for Control_3 already exists, skip\n",
      "bigwig for Colitis_healing already exists, skip\n",
      "bigwig for Control_1 already exists, skip\n",
      "bigwig for Colitis_recovered already exists, skip\n",
      "bigwig for Control_2 already exists, skip\n",
      "bigwig for Colitis_acute already exists, skip\n",
      "bigwig for Control_3 already exists, skip\n",
      "bigwig for Colitis_healing already exists, skip\n",
      "bigwig for Control_1 already exists, skip\n",
      "bigwig for Colitis_recovered already exists, skip\n",
      "bigwig for Control_2 already exists, skip\n",
      "bigwig for Colitis_acute already exists, skip\n",
      "bigwig for Control_3 already exists, skip\n",
      "bigwig for Colitis_healing already exists, skip\n",
      "bigwig for Control_1 already exists, skip\n",
      "bigwig for Colitis_recovered already exists, skip\n",
      "bigwig for Control_2 already exists, skip\n",
      "bigwig for Colitis_acute already exists, skip\n",
      "bigwig for Control_3 already exists, skip\n"
     ]
    }
   ],
   "source": [
    "import json\n",
    "model_configs = []\n",
    "for fold in range(5):\n",
    "    for i in range(len(cell_types)):\n",
    "        ct = cell_types[i]\n",
    "        model_config= scp.tl.seq_model_config(printer, \n",
    "                                         peak_file=f'{work_dir}/cleaned_narrowPeak.bed',\n",
    "                                         cell_grouping=bcs[i],\n",
    "                                         group_names=ct,\n",
    "                                         genome=printer.genome,\n",
    "                                         fold=fold,\n",
    "                                         overwrite_bigwig=False,\n",
    "                                         model_name=f'{ct}',\n",
    "                                         additional_configs={\n",
    "                                            \"notes\": \"v3\",\n",
    "                                            \"tags\": ['colitisDSS',\n",
    "                                                ct,\n",
    "                                                f\"fold{fold}\"]})\n",
    "        json.dump(model_config, open(f'{work_dir}/{ct}_fold{fold}.JSON', 'w'), indent=4)\n",
    "        model_configs.append(model_config)"
   ]
  },
  {
   "cell_type": "code",
   "execution_count": 33,
   "id": "0e97ffc2-c8f2-401e-93ab-ab54038f6423",
   "metadata": {
    "scrolled": true
   },
   "outputs": [
    {
     "name": "stdout",
     "output_type": "stream",
     "text": [
      "CUDA_VISIBLE_DEVICES=0 seq2print_train --config /data/rzhang/data_15/colitisDSS/tissue/Colitis_healing_fold0.JSON --temp_dir /data/rzhang/data_15/colitisDSS/tissue/temp --model_dir /data/rzhang/data_15/colitisDSS/tissue --data_dir / --project scPrinter_seq_clean --enable_wandb\n",
      "CUDA_VISIBLE_DEVICES=0 seq2print_train --config /data/rzhang/data_15/colitisDSS/tissue/Colitis_healing_fold1.JSON --temp_dir /data/rzhang/data_15/colitisDSS/tissue/temp --model_dir /data/rzhang/data_15/colitisDSS/tissue --data_dir / --project scPrinter_seq_clean --enable_wandb\n",
      "CUDA_VISIBLE_DEVICES=0 seq2print_train --config /data/rzhang/data_15/colitisDSS/tissue/Colitis_healing_fold2.JSON --temp_dir /data/rzhang/data_15/colitisDSS/tissue/temp --model_dir /data/rzhang/data_15/colitisDSS/tissue --data_dir / --project scPrinter_seq_clean --enable_wandb\n",
      "CUDA_VISIBLE_DEVICES=0 seq2print_train --config /data/rzhang/data_15/colitisDSS/tissue/Colitis_healing_fold3.JSON --temp_dir /data/rzhang/data_15/colitisDSS/tissue/temp --model_dir /data/rzhang/data_15/colitisDSS/tissue --data_dir / --project scPrinter_seq_clean --enable_wandb\n",
      "CUDA_VISIBLE_DEVICES=0 seq2print_train --config /data/rzhang/data_15/colitisDSS/tissue/Colitis_healing_fold4.JSON --temp_dir /data/rzhang/data_15/colitisDSS/tissue/temp --model_dir /data/rzhang/data_15/colitisDSS/tissue --data_dir / --project scPrinter_seq_clean --enable_wandb\n",
      "CUDA_VISIBLE_DEVICES=0 seq2print_train --config /data/rzhang/data_15/colitisDSS/tissue/Control_1_fold0.JSON --temp_dir /data/rzhang/data_15/colitisDSS/tissue/temp --model_dir /data/rzhang/data_15/colitisDSS/tissue --data_dir / --project scPrinter_seq_clean --enable_wandb\n",
      "CUDA_VISIBLE_DEVICES=0 seq2print_train --config /data/rzhang/data_15/colitisDSS/tissue/Control_1_fold1.JSON --temp_dir /data/rzhang/data_15/colitisDSS/tissue/temp --model_dir /data/rzhang/data_15/colitisDSS/tissue --data_dir / --project scPrinter_seq_clean --enable_wandb\n",
      "CUDA_VISIBLE_DEVICES=0 seq2print_train --config /data/rzhang/data_15/colitisDSS/tissue/Control_1_fold2.JSON --temp_dir /data/rzhang/data_15/colitisDSS/tissue/temp --model_dir /data/rzhang/data_15/colitisDSS/tissue --data_dir / --project scPrinter_seq_clean --enable_wandb\n",
      "CUDA_VISIBLE_DEVICES=0 seq2print_train --config /data/rzhang/data_15/colitisDSS/tissue/Control_1_fold3.JSON --temp_dir /data/rzhang/data_15/colitisDSS/tissue/temp --model_dir /data/rzhang/data_15/colitisDSS/tissue --data_dir / --project scPrinter_seq_clean --enable_wandb\n",
      "CUDA_VISIBLE_DEVICES=0 seq2print_train --config /data/rzhang/data_15/colitisDSS/tissue/Control_1_fold4.JSON --temp_dir /data/rzhang/data_15/colitisDSS/tissue/temp --model_dir /data/rzhang/data_15/colitisDSS/tissue --data_dir / --project scPrinter_seq_clean --enable_wandb\n",
      "CUDA_VISIBLE_DEVICES=0 seq2print_train --config /data/rzhang/data_15/colitisDSS/tissue/Colitis_recovered_fold0.JSON --temp_dir /data/rzhang/data_15/colitisDSS/tissue/temp --model_dir /data/rzhang/data_15/colitisDSS/tissue --data_dir / --project scPrinter_seq_clean --enable_wandb\n",
      "CUDA_VISIBLE_DEVICES=0 seq2print_train --config /data/rzhang/data_15/colitisDSS/tissue/Colitis_recovered_fold1.JSON --temp_dir /data/rzhang/data_15/colitisDSS/tissue/temp --model_dir /data/rzhang/data_15/colitisDSS/tissue --data_dir / --project scPrinter_seq_clean --enable_wandb\n",
      "CUDA_VISIBLE_DEVICES=0 seq2print_train --config /data/rzhang/data_15/colitisDSS/tissue/Colitis_recovered_fold2.JSON --temp_dir /data/rzhang/data_15/colitisDSS/tissue/temp --model_dir /data/rzhang/data_15/colitisDSS/tissue --data_dir / --project scPrinter_seq_clean --enable_wandb\n",
      "CUDA_VISIBLE_DEVICES=0 seq2print_train --config /data/rzhang/data_15/colitisDSS/tissue/Colitis_recovered_fold3.JSON --temp_dir /data/rzhang/data_15/colitisDSS/tissue/temp --model_dir /data/rzhang/data_15/colitisDSS/tissue --data_dir / --project scPrinter_seq_clean --enable_wandb\n",
      "CUDA_VISIBLE_DEVICES=0 seq2print_train --config /data/rzhang/data_15/colitisDSS/tissue/Colitis_recovered_fold4.JSON --temp_dir /data/rzhang/data_15/colitisDSS/tissue/temp --model_dir /data/rzhang/data_15/colitisDSS/tissue --data_dir / --project scPrinter_seq_clean --enable_wandb\n",
      "CUDA_VISIBLE_DEVICES=0 seq2print_train --config /data/rzhang/data_15/colitisDSS/tissue/Control_2_fold0.JSON --temp_dir /data/rzhang/data_15/colitisDSS/tissue/temp --model_dir /data/rzhang/data_15/colitisDSS/tissue --data_dir / --project scPrinter_seq_clean --enable_wandb\n",
      "CUDA_VISIBLE_DEVICES=0 seq2print_train --config /data/rzhang/data_15/colitisDSS/tissue/Control_2_fold1.JSON --temp_dir /data/rzhang/data_15/colitisDSS/tissue/temp --model_dir /data/rzhang/data_15/colitisDSS/tissue --data_dir / --project scPrinter_seq_clean --enable_wandb\n",
      "CUDA_VISIBLE_DEVICES=0 seq2print_train --config /data/rzhang/data_15/colitisDSS/tissue/Control_2_fold2.JSON --temp_dir /data/rzhang/data_15/colitisDSS/tissue/temp --model_dir /data/rzhang/data_15/colitisDSS/tissue --data_dir / --project scPrinter_seq_clean --enable_wandb\n",
      "CUDA_VISIBLE_DEVICES=0 seq2print_train --config /data/rzhang/data_15/colitisDSS/tissue/Control_2_fold3.JSON --temp_dir /data/rzhang/data_15/colitisDSS/tissue/temp --model_dir /data/rzhang/data_15/colitisDSS/tissue --data_dir / --project scPrinter_seq_clean --enable_wandb\n",
      "CUDA_VISIBLE_DEVICES=0 seq2print_train --config /data/rzhang/data_15/colitisDSS/tissue/Control_2_fold4.JSON --temp_dir /data/rzhang/data_15/colitisDSS/tissue/temp --model_dir /data/rzhang/data_15/colitisDSS/tissue --data_dir / --project scPrinter_seq_clean --enable_wandb\n",
      "CUDA_VISIBLE_DEVICES=0 seq2print_train --config /data/rzhang/data_15/colitisDSS/tissue/Colitis_acute_fold0.JSON --temp_dir /data/rzhang/data_15/colitisDSS/tissue/temp --model_dir /data/rzhang/data_15/colitisDSS/tissue --data_dir / --project scPrinter_seq_clean --enable_wandb\n",
      "CUDA_VISIBLE_DEVICES=0 seq2print_train --config /data/rzhang/data_15/colitisDSS/tissue/Colitis_acute_fold1.JSON --temp_dir /data/rzhang/data_15/colitisDSS/tissue/temp --model_dir /data/rzhang/data_15/colitisDSS/tissue --data_dir / --project scPrinter_seq_clean --enable_wandb\n",
      "CUDA_VISIBLE_DEVICES=0 seq2print_train --config /data/rzhang/data_15/colitisDSS/tissue/Colitis_acute_fold2.JSON --temp_dir /data/rzhang/data_15/colitisDSS/tissue/temp --model_dir /data/rzhang/data_15/colitisDSS/tissue --data_dir / --project scPrinter_seq_clean --enable_wandb\n",
      "CUDA_VISIBLE_DEVICES=0 seq2print_train --config /data/rzhang/data_15/colitisDSS/tissue/Colitis_acute_fold3.JSON --temp_dir /data/rzhang/data_15/colitisDSS/tissue/temp --model_dir /data/rzhang/data_15/colitisDSS/tissue --data_dir / --project scPrinter_seq_clean --enable_wandb\n",
      "CUDA_VISIBLE_DEVICES=0 seq2print_train --config /data/rzhang/data_15/colitisDSS/tissue/Colitis_acute_fold4.JSON --temp_dir /data/rzhang/data_15/colitisDSS/tissue/temp --model_dir /data/rzhang/data_15/colitisDSS/tissue --data_dir / --project scPrinter_seq_clean --enable_wandb\n",
      "CUDA_VISIBLE_DEVICES=0 seq2print_train --config /data/rzhang/data_15/colitisDSS/tissue/Control_3_fold0.JSON --temp_dir /data/rzhang/data_15/colitisDSS/tissue/temp --model_dir /data/rzhang/data_15/colitisDSS/tissue --data_dir / --project scPrinter_seq_clean --enable_wandb\n",
      "CUDA_VISIBLE_DEVICES=0 seq2print_train --config /data/rzhang/data_15/colitisDSS/tissue/Control_3_fold1.JSON --temp_dir /data/rzhang/data_15/colitisDSS/tissue/temp --model_dir /data/rzhang/data_15/colitisDSS/tissue --data_dir / --project scPrinter_seq_clean --enable_wandb\n",
      "CUDA_VISIBLE_DEVICES=0 seq2print_train --config /data/rzhang/data_15/colitisDSS/tissue/Control_3_fold2.JSON --temp_dir /data/rzhang/data_15/colitisDSS/tissue/temp --model_dir /data/rzhang/data_15/colitisDSS/tissue --data_dir / --project scPrinter_seq_clean --enable_wandb\n",
      "CUDA_VISIBLE_DEVICES=0 seq2print_train --config /data/rzhang/data_15/colitisDSS/tissue/Control_3_fold3.JSON --temp_dir /data/rzhang/data_15/colitisDSS/tissue/temp --model_dir /data/rzhang/data_15/colitisDSS/tissue --data_dir / --project scPrinter_seq_clean --enable_wandb\n",
      "CUDA_VISIBLE_DEVICES=0 seq2print_train --config /data/rzhang/data_15/colitisDSS/tissue/Control_3_fold4.JSON --temp_dir /data/rzhang/data_15/colitisDSS/tissue/temp --model_dir /data/rzhang/data_15/colitisDSS/tissue --data_dir / --project scPrinter_seq_clean --enable_wandb\n"
     ]
    }
   ],
   "source": [
    "for ct in cell_types:\n",
    "    for fold in range(5):\n",
    "        scp.tl.launch_seq2print(model_config=None,\n",
    "                                model_config_path=f'{work_dir}/{ct}_fold{fold}.JSON',\n",
    "                                training_mode='seq2print',\n",
    "                                temp_dir=f'{work_dir}/temp',\n",
    "                                model_dir=f'{work_dir}',\n",
    "                                data_dir='/',\n",
    "                                enable_wandb=True,\n",
    "                                gpu_id=0,\n",
    "                                wandb_project='scPrinter_seq_colitis', silent=True)"
   ]
  },
  {
   "cell_type": "markdown",
   "id": "ad68f455-37b6-4573-8b34-f5402e2be939",
   "metadata": {
    "jp-MarkdownHeadingCollapsed": true
   },
   "source": [
    "# Calculating seq2PRINT TFBS scores"
   ]
  },
  {
   "cell_type": "code",
   "execution_count": null,
   "id": "d025149a-db6a-45ee-a787-4d5d10f22a01",
   "metadata": {},
   "outputs": [],
   "source": [
    "# Now fetch models:\n",
    "\n",
    "import wandb\n",
    "\n",
    "# Login to your W&B account\n",
    "wandb.login()\n",
    "\n",
    "# Set your entity and project\n",
    "entity = 'ruochiz'  # Replace with your W&B entity (username or team name)\n",
    "project = 'scPrinter_seq_colitis'  # Replace with your W&B project name\n",
    "\n",
    "# Initialize the API\n",
    "api = wandb.Api()\n",
    "\n",
    "# Get the project\n",
    "runs = api.runs(f\"{entity}/{project}\")\n",
    "condition2model = {}\n",
    "for run in runs:\n",
    "    model_name = run.config['savename'] + '-' + run.name + '.pt'\n",
    "    if run.state == 'finished':\n",
    "        for tag in run.tags:\n",
    "            if 'colitisDSS' in tag:\n",
    "                continue\n",
    "            if 'fold' in tag:\n",
    "                continue\n",
    "            condition = tag\n",
    "            if condition not in condition2model:\n",
    "                condition2model[condition] = []\n",
    "        condition2model[condition].append(model_name)"
   ]
  },
  {
   "cell_type": "code",
   "execution_count": null,
   "id": "e0a5d77f-0984-4ed3-b901-aff9689b36dd",
   "metadata": {},
   "outputs": [],
   "source": [
    "groups = list(condition2model.keys())"
   ]
  },
  {
   "cell_type": "code",
   "execution_count": null,
   "id": "e0d8b8ee-f0dc-460f-9c7f-ed0b1f041086",
   "metadata": {},
   "outputs": [],
   "source": [
    "for g in groups:\n",
    "    model_path = condition2model[g]\n",
    "    scp.tl.seq_tfbs_seq2print(seq_attr_count=None,\n",
    "                           seq_attr_footprint=None,\n",
    "                           genome=printer.genome,\n",
    "                           peak_file=os.path.join(work_dir, peak),\n",
    "                           save_name=f'{g}_',\n",
    "                           gpus=[0,1,2,3,4, 5,6,7],\n",
    "                           overwrite=True,\n",
    "                           silent=True,\n",
    "                            model_type='seq2print',\n",
    "                            model_path=model_path)\n",
    "for g in groups:\n",
    "    for m in condition2model[g]:\n",
    "        model_path = [m]\n",
    "        scp.tl.seq_tfbs_seq2print(seq_attr_count=None,\n",
    "                               seq_attr_footprint=None,\n",
    "                               genome=printer.genome,\n",
    "                                  group_names=f'{g}_fold{ct}_',\n",
    "                               region_path=os.path.join(work_dir, peak),\n",
    "                               gpus=[0,1,2,3,4, 5,6,7],\n",
    "                                model_type='seq2print',\n",
    "                                model_path=model_path,\n",
    "                                 verbose=True,\n",
    "                              launch=True,\n",
    "                              return_adata=False, # turn this as True\n",
    "                              overwrite_seqattr=False,\n",
    "                              save_key=None, # and input a save_key \n",
    "                              save_path=f'{work_dir}')"
   ]
  },
  {
   "cell_type": "markdown",
   "id": "49843b68-3a4b-4d25-8dc1-8e49072e66a4",
   "metadata": {},
   "source": [
    "# Compile TFBS bigwig into motif dataframe"
   ]
  },
  {
   "cell_type": "code",
   "execution_count": 37,
   "id": "26c8b648-026e-440b-9a91-f8c0979f0b63",
   "metadata": {},
   "outputs": [
    {
     "data": {
      "text/html": [
       "<div>\n",
       "<style scoped>\n",
       "    .dataframe tbody tr th:only-of-type {\n",
       "        vertical-align: middle;\n",
       "    }\n",
       "\n",
       "    .dataframe tbody tr th {\n",
       "        vertical-align: top;\n",
       "    }\n",
       "\n",
       "    .dataframe thead th {\n",
       "        text-align: right;\n",
       "    }\n",
       "</style>\n",
       "<table border=\"1\" class=\"dataframe\">\n",
       "  <thead>\n",
       "    <tr style=\"text-align: right;\">\n",
       "      <th></th>\n",
       "      <th>0</th>\n",
       "      <th>1</th>\n",
       "      <th>2</th>\n",
       "    </tr>\n",
       "  </thead>\n",
       "  <tbody>\n",
       "    <tr>\n",
       "      <th>0</th>\n",
       "      <td>chr1</td>\n",
       "      <td>3423189</td>\n",
       "      <td>3423489</td>\n",
       "    </tr>\n",
       "    <tr>\n",
       "      <th>1</th>\n",
       "      <td>chr1</td>\n",
       "      <td>3427087</td>\n",
       "      <td>3427387</td>\n",
       "    </tr>\n",
       "    <tr>\n",
       "      <th>2</th>\n",
       "      <td>chr1</td>\n",
       "      <td>3485535</td>\n",
       "      <td>3485835</td>\n",
       "    </tr>\n",
       "    <tr>\n",
       "      <th>3</th>\n",
       "      <td>chr1</td>\n",
       "      <td>3495166</td>\n",
       "      <td>3495466</td>\n",
       "    </tr>\n",
       "    <tr>\n",
       "      <th>4</th>\n",
       "      <td>chr1</td>\n",
       "      <td>3514966</td>\n",
       "      <td>3515266</td>\n",
       "    </tr>\n",
       "    <tr>\n",
       "      <th>...</th>\n",
       "      <td>...</td>\n",
       "      <td>...</td>\n",
       "      <td>...</td>\n",
       "    </tr>\n",
       "    <tr>\n",
       "      <th>127619</th>\n",
       "      <td>chrX</td>\n",
       "      <td>170004337</td>\n",
       "      <td>170004637</td>\n",
       "    </tr>\n",
       "    <tr>\n",
       "      <th>127620</th>\n",
       "      <td>chrX</td>\n",
       "      <td>170005168</td>\n",
       "      <td>170005468</td>\n",
       "    </tr>\n",
       "    <tr>\n",
       "      <th>127621</th>\n",
       "      <td>chrX</td>\n",
       "      <td>170674756</td>\n",
       "      <td>170675056</td>\n",
       "    </tr>\n",
       "    <tr>\n",
       "      <th>127622</th>\n",
       "      <td>chrX</td>\n",
       "      <td>170676444</td>\n",
       "      <td>170676744</td>\n",
       "    </tr>\n",
       "    <tr>\n",
       "      <th>127623</th>\n",
       "      <td>chrX</td>\n",
       "      <td>170677318</td>\n",
       "      <td>170677618</td>\n",
       "    </tr>\n",
       "  </tbody>\n",
       "</table>\n",
       "<p>127624 rows × 3 columns</p>\n",
       "</div>"
      ],
      "text/plain": [
       "           0          1          2\n",
       "0       chr1    3423189    3423489\n",
       "1       chr1    3427087    3427387\n",
       "2       chr1    3485535    3485835\n",
       "3       chr1    3495166    3495466\n",
       "4       chr1    3514966    3515266\n",
       "...      ...        ...        ...\n",
       "127619  chrX  170004337  170004637\n",
       "127620  chrX  170005168  170005468\n",
       "127621  chrX  170674756  170675056\n",
       "127622  chrX  170676444  170676744\n",
       "127623  chrX  170677318  170677618\n",
       "\n",
       "[127624 rows x 3 columns]"
      ]
     },
     "execution_count": 37,
     "metadata": {},
     "output_type": "execute_result"
    }
   ],
   "source": [
    "work_dir = '/data/rzhang/data_15/colitisDSS/tissue'\n",
    "meta = 'DSS-prim-merge10-ATAC.qc_stats.singlet_epi_only.txt'\n",
    "frags = 'DSS-prim-merge10-ATAC.reshift.fragments.tsv.gz'\n",
    "peak = 'DSS-prim-merge10-ATAC.cleanPeaks.fixedwidthpeaks_800bp_300reSized.bed'\n",
    "\n",
    "peak = pd.read_csv(f'{work_dir}/{peak}', sep='\\t', header=None)\n",
    "peak = scp.utils.resize_bed_df(peak, 300)\n",
    "peak"
   ]
  },
  {
   "cell_type": "code",
   "execution_count": 34,
   "id": "6a444d44-3edb-4e8a-8f0e-3a0b0aed0d65",
   "metadata": {
    "scrolled": true
   },
   "outputs": [
    {
     "data": {
      "application/vnd.jupyter.widget-view+json": {
       "model_id": "cb3bba2342174e3d9ae21d44bfc2bf6e",
       "version_major": 2,
       "version_minor": 0
      },
      "text/plain": [
       "  0%|          | 0/356228 [00:00<?, ?it/s]"
      ]
     },
     "metadata": {},
     "output_type": "display_data"
    }
   ],
   "source": [
    "\n",
    "# motif match based ov\n",
    "motifs = scp.motifs.FigR_Mouse_Motifs(,\n",
    "                           printer.genome, bg='genome'\n",
    "                           nCores=32,pvalue=5e-5,\n",
    "                           # mode='motifmatchr'\n",
    "                          )\n",
    "motifs.prep_scanner(tf_genes=None,pvalue=5e-5)\n",
    "res = motifs.scan_motif(np.array(peak), verbose=True)\n",
    "res = pd.DataFrame(res)\n",
    "res['chrom'] = res[0]\n",
    "res['start'] = res[1] + res[7]\n",
    "res['end'] = res[1] + res[8]\n",
    "res['TF'] = [xx.split(\"_\")[2] for xx in res[4]]\n",
    "# loc = loc.drop_duplicates(['chrom','start','end'])\n",
    "motif_match = res.copy()"
   ]
  },
  {
   "cell_type": "code",
   "execution_count": 39,
   "id": "9461247f-517f-4842-8b1d-9950c62fd33b",
   "metadata": {},
   "outputs": [],
   "source": [
    "meta = pd.read_csv(os.path.join(work_dir, meta), sep='\\t')\n",
    "batchmapping = {'DSS04':1, 'DSS05':1, 'DSS15':2,  'DSS16':2, 'DSS17':3,  'DSS18':3}\n",
    "meta['sample_id'] = [f'{xx}_{batchmapping[yy]}' if xx == 'Control' else xx for xx,yy in zip(meta['sample'], meta['batch'])]"
   ]
  },
  {
   "cell_type": "code",
   "execution_count": 41,
   "id": "3f83eda2-db34-4d4f-9b4e-86291ba20171",
   "metadata": {
    "scrolled": true
   },
   "outputs": [
    {
     "data": {
      "application/vnd.jupyter.widget-view+json": {
       "model_id": "bbf737bd314f4d25b3920b52decabdeb",
       "version_major": 2,
       "version_minor": 0
      },
      "text/plain": [
       "  0%|          | 0/64 [00:00<?, ?it/s]"
      ]
     },
     "metadata": {},
     "output_type": "display_data"
    },
    {
     "data": {
      "application/vnd.jupyter.widget-view+json": {
       "model_id": "15c212f9f3fe4fc29a46a33ca8552c0e",
       "version_major": 2,
       "version_minor": 0
      },
      "text/plain": [
       "  0%|          | 0/64 [00:00<?, ?it/s]"
      ]
     },
     "metadata": {},
     "output_type": "display_data"
    },
    {
     "data": {
      "application/vnd.jupyter.widget-view+json": {
       "model_id": "48a858a606f04d31b161d5222010f0ae",
       "version_major": 2,
       "version_minor": 0
      },
      "text/plain": [
       "  0%|          | 0/64 [00:00<?, ?it/s]"
      ]
     },
     "metadata": {},
     "output_type": "display_data"
    },
    {
     "data": {
      "application/vnd.jupyter.widget-view+json": {
       "model_id": "e53e54b2f3e24822abde5272b3a195f8",
       "version_major": 2,
       "version_minor": 0
      },
      "text/plain": [
       "  0%|          | 0/64 [00:00<?, ?it/s]"
      ]
     },
     "metadata": {},
     "output_type": "display_data"
    },
    {
     "data": {
      "application/vnd.jupyter.widget-view+json": {
       "model_id": "51afcafb60fa42a4be1e2be750bce3cd",
       "version_major": 2,
       "version_minor": 0
      },
      "text/plain": [
       "  0%|          | 0/64 [00:00<?, ?it/s]"
      ]
     },
     "metadata": {},
     "output_type": "display_data"
    },
    {
     "data": {
      "application/vnd.jupyter.widget-view+json": {
       "model_id": "f625bf06b31c43c489cbfa963b92723e",
       "version_major": 2,
       "version_minor": 0
      },
      "text/plain": [
       "  0%|          | 0/64 [00:00<?, ?it/s]"
      ]
     },
     "metadata": {},
     "output_type": "display_data"
    },
    {
     "data": {
      "application/vnd.jupyter.widget-view+json": {
       "model_id": "9d22d8ee62a34e84b3a307bbcc680c6f",
       "version_major": 2,
       "version_minor": 0
      },
      "text/plain": [
       "  0%|          | 0/64 [00:00<?, ?it/s]"
      ]
     },
     "metadata": {},
     "output_type": "display_data"
    },
    {
     "data": {
      "application/vnd.jupyter.widget-view+json": {
       "model_id": "ec1d1857a5ac4578888a83539f9c41ed",
       "version_major": 2,
       "version_minor": 0
      },
      "text/plain": [
       "  0%|          | 0/64 [00:00<?, ?it/s]"
      ]
     },
     "metadata": {},
     "output_type": "display_data"
    },
    {
     "data": {
      "application/vnd.jupyter.widget-view+json": {
       "model_id": "db84e3b2286846918470065102db7b3b",
       "version_major": 2,
       "version_minor": 0
      },
      "text/plain": [
       "  0%|          | 0/64 [00:00<?, ?it/s]"
      ]
     },
     "metadata": {},
     "output_type": "display_data"
    },
    {
     "data": {
      "application/vnd.jupyter.widget-view+json": {
       "model_id": "0b07790197254190ae38c23eb0b01186",
       "version_major": 2,
       "version_minor": 0
      },
      "text/plain": [
       "  0%|          | 0/64 [00:00<?, ?it/s]"
      ]
     },
     "metadata": {},
     "output_type": "display_data"
    },
    {
     "data": {
      "application/vnd.jupyter.widget-view+json": {
       "model_id": "cc307774ed164cbab1249b576561c28d",
       "version_major": 2,
       "version_minor": 0
      },
      "text/plain": [
       "  0%|          | 0/64 [00:00<?, ?it/s]"
      ]
     },
     "metadata": {},
     "output_type": "display_data"
    },
    {
     "data": {
      "application/vnd.jupyter.widget-view+json": {
       "model_id": "d9fd3210ea194a25baf1fb7ee3f099df",
       "version_major": 2,
       "version_minor": 0
      },
      "text/plain": [
       "  0%|          | 0/64 [00:00<?, ?it/s]"
      ]
     },
     "metadata": {},
     "output_type": "display_data"
    },
    {
     "data": {
      "application/vnd.jupyter.widget-view+json": {
       "model_id": "91c54f6340ab4b7bab1d01bf5665d0d3",
       "version_major": 2,
       "version_minor": 0
      },
      "text/plain": [
       "  0%|          | 0/64 [00:00<?, ?it/s]"
      ]
     },
     "metadata": {},
     "output_type": "display_data"
    },
    {
     "data": {
      "application/vnd.jupyter.widget-view+json": {
       "model_id": "c50586cdea4945ea887740d9633c6f78",
       "version_major": 2,
       "version_minor": 0
      },
      "text/plain": [
       "  0%|          | 0/64 [00:00<?, ?it/s]"
      ]
     },
     "metadata": {},
     "output_type": "display_data"
    },
    {
     "data": {
      "application/vnd.jupyter.widget-view+json": {
       "model_id": "a2422bfac9f244ad8ebb5ec8b0727e5e",
       "version_major": 2,
       "version_minor": 0
      },
      "text/plain": [
       "  0%|          | 0/64 [00:00<?, ?it/s]"
      ]
     },
     "metadata": {},
     "output_type": "display_data"
    },
    {
     "data": {
      "application/vnd.jupyter.widget-view+json": {
       "model_id": "7c686ce5f1b54d279561c11f9e6eecd0",
       "version_major": 2,
       "version_minor": 0
      },
      "text/plain": [
       "  0%|          | 0/64 [00:00<?, ?it/s]"
      ]
     },
     "metadata": {},
     "output_type": "display_data"
    },
    {
     "data": {
      "application/vnd.jupyter.widget-view+json": {
       "model_id": "3fbce9676d894e42acf0c1ba1cf061e2",
       "version_major": 2,
       "version_minor": 0
      },
      "text/plain": [
       "  0%|          | 0/64 [00:00<?, ?it/s]"
      ]
     },
     "metadata": {},
     "output_type": "display_data"
    },
    {
     "data": {
      "application/vnd.jupyter.widget-view+json": {
       "model_id": "8ba10150778e433da973c42690deae95",
       "version_major": 2,
       "version_minor": 0
      },
      "text/plain": [
       "  0%|          | 0/64 [00:00<?, ?it/s]"
      ]
     },
     "metadata": {},
     "output_type": "display_data"
    },
    {
     "data": {
      "application/vnd.jupyter.widget-view+json": {
       "model_id": "6e9956e609bf421a9d4001ae879d157d",
       "version_major": 2,
       "version_minor": 0
      },
      "text/plain": [
       "  0%|          | 0/64 [00:00<?, ?it/s]"
      ]
     },
     "metadata": {},
     "output_type": "display_data"
    },
    {
     "data": {
      "application/vnd.jupyter.widget-view+json": {
       "model_id": "3e10d1bdfb2a4e4f9c547b6a4dd4d7e1",
       "version_major": 2,
       "version_minor": 0
      },
      "text/plain": [
       "  0%|          | 0/64 [00:00<?, ?it/s]"
      ]
     },
     "metadata": {},
     "output_type": "display_data"
    },
    {
     "data": {
      "application/vnd.jupyter.widget-view+json": {
       "model_id": "279f5d9986154536ad0992b7f3caf79a",
       "version_major": 2,
       "version_minor": 0
      },
      "text/plain": [
       "  0%|          | 0/64 [00:00<?, ?it/s]"
      ]
     },
     "metadata": {},
     "output_type": "display_data"
    },
    {
     "data": {
      "application/vnd.jupyter.widget-view+json": {
       "model_id": "ddd47c6a7eb24cc0a656b9851a2b1880",
       "version_major": 2,
       "version_minor": 0
      },
      "text/plain": [
       "  0%|          | 0/64 [00:00<?, ?it/s]"
      ]
     },
     "metadata": {},
     "output_type": "display_data"
    },
    {
     "data": {
      "application/vnd.jupyter.widget-view+json": {
       "model_id": "f2c48a7029ad43b191cf2e6aaae28823",
       "version_major": 2,
       "version_minor": 0
      },
      "text/plain": [
       "  0%|          | 0/64 [00:00<?, ?it/s]"
      ]
     },
     "metadata": {},
     "output_type": "display_data"
    },
    {
     "data": {
      "application/vnd.jupyter.widget-view+json": {
       "model_id": "2d1c3c14c69a428c9f7ccd13ea2da378",
       "version_major": 2,
       "version_minor": 0
      },
      "text/plain": [
       "  0%|          | 0/64 [00:00<?, ?it/s]"
      ]
     },
     "metadata": {},
     "output_type": "display_data"
    },
    {
     "data": {
      "application/vnd.jupyter.widget-view+json": {
       "model_id": "de20739e2dff42cbb204035efe6ced99",
       "version_major": 2,
       "version_minor": 0
      },
      "text/plain": [
       "  0%|          | 0/64 [00:00<?, ?it/s]"
      ]
     },
     "metadata": {},
     "output_type": "display_data"
    },
    {
     "data": {
      "application/vnd.jupyter.widget-view+json": {
       "model_id": "287b3a1f24e54e5eb9f71d11346facf9",
       "version_major": 2,
       "version_minor": 0
      },
      "text/plain": [
       "  0%|          | 0/64 [00:00<?, ?it/s]"
      ]
     },
     "metadata": {},
     "output_type": "display_data"
    },
    {
     "data": {
      "application/vnd.jupyter.widget-view+json": {
       "model_id": "62373e612d5943569c2e9a5e42c78b73",
       "version_major": 2,
       "version_minor": 0
      },
      "text/plain": [
       "  0%|          | 0/64 [00:00<?, ?it/s]"
      ]
     },
     "metadata": {},
     "output_type": "display_data"
    },
    {
     "data": {
      "application/vnd.jupyter.widget-view+json": {
       "model_id": "e8a50d0a66f84fdbba354c6b4c1d2a7b",
       "version_major": 2,
       "version_minor": 0
      },
      "text/plain": [
       "  0%|          | 0/64 [00:00<?, ?it/s]"
      ]
     },
     "metadata": {},
     "output_type": "display_data"
    },
    {
     "data": {
      "application/vnd.jupyter.widget-view+json": {
       "model_id": "a40853a5a2aa4d32864bc6a30f1ca8e2",
       "version_major": 2,
       "version_minor": 0
      },
      "text/plain": [
       "  0%|          | 0/64 [00:00<?, ?it/s]"
      ]
     },
     "metadata": {},
     "output_type": "display_data"
    },
    {
     "data": {
      "application/vnd.jupyter.widget-view+json": {
       "model_id": "dd740123cba04e71b5f1b39decc2bdd6",
       "version_major": 2,
       "version_minor": 0
      },
      "text/plain": [
       "  0%|          | 0/64 [00:00<?, ?it/s]"
      ]
     },
     "metadata": {},
     "output_type": "display_data"
    },
    {
     "data": {
      "application/vnd.jupyter.widget-view+json": {
       "model_id": "bcd535546890477c8f3bb31e40105062",
       "version_major": 2,
       "version_minor": 0
      },
      "text/plain": [
       "  0%|          | 0/64 [00:00<?, ?it/s]"
      ]
     },
     "metadata": {},
     "output_type": "display_data"
    },
    {
     "data": {
      "application/vnd.jupyter.widget-view+json": {
       "model_id": "cf50eebf38d74292b29808ea16b29d4c",
       "version_major": 2,
       "version_minor": 0
      },
      "text/plain": [
       "  0%|          | 0/64 [00:00<?, ?it/s]"
      ]
     },
     "metadata": {},
     "output_type": "display_data"
    },
    {
     "data": {
      "application/vnd.jupyter.widget-view+json": {
       "model_id": "c4864041c06a47f6802a60b170e7628f",
       "version_major": 2,
       "version_minor": 0
      },
      "text/plain": [
       "  0%|          | 0/64 [00:00<?, ?it/s]"
      ]
     },
     "metadata": {},
     "output_type": "display_data"
    },
    {
     "data": {
      "application/vnd.jupyter.widget-view+json": {
       "model_id": "d6340050fb6e4688bbf4f90dc73bd98d",
       "version_major": 2,
       "version_minor": 0
      },
      "text/plain": [
       "  0%|          | 0/64 [00:00<?, ?it/s]"
      ]
     },
     "metadata": {},
     "output_type": "display_data"
    },
    {
     "data": {
      "application/vnd.jupyter.widget-view+json": {
       "model_id": "dbd91c68e6664b20a884ee9a08c8f544",
       "version_major": 2,
       "version_minor": 0
      },
      "text/plain": [
       "  0%|          | 0/64 [00:00<?, ?it/s]"
      ]
     },
     "metadata": {},
     "output_type": "display_data"
    },
    {
     "data": {
      "application/vnd.jupyter.widget-view+json": {
       "model_id": "13dffd26dfb945928ad79c0b9f7bcb5d",
       "version_major": 2,
       "version_minor": 0
      },
      "text/plain": [
       "  0%|          | 0/64 [00:00<?, ?it/s]"
      ]
     },
     "metadata": {},
     "output_type": "display_data"
    }
   ],
   "source": [
    "# Load per condition tfbs / per fold tfbs on all cCREs\n",
    "results = {}\n",
    "for name_id,name in enumerate(list(meta['sample_id'].unique())):\n",
    "    import pyBigWig\n",
    "    from tqdm.auto import *\n",
    "    for fold in range(5):\n",
    "        fname = f'{name}_fold{fold}'\n",
    "        def process_df(df):\n",
    "            bw = f'/data/rzhang/data_15/colitisDSS/tissue/{fname}_TFBS.bigwig'\n",
    "            # print (bw)i\n",
    "            with pyBigWig.open(bw, 'r') as f:\n",
    "                v_cell = []\n",
    "                for chr,start,end in zip(tqdm(df[0], disable=True), df[1], df[2]):\n",
    "                    center = (start + end) // 2\n",
    "                    # v = f.values(chr, center, center+1, numpy=True)[0]\n",
    "                    v = np.nan_to_num(f.values(chr, start, end, numpy=True))\n",
    "                    v_cell.append(v)\n",
    "            return np.array(v_cell)\n",
    "        n = 2000  #chunk row size\n",
    "        list_df = [peak[i:i+n] for i in range(0,peak.shape[0],n)]\n",
    "        from tqdm.contrib.concurrent import process_map\n",
    "        v = process_map(process_df, list_df, max_workers=64)\n",
    "        v = np.concatenate(v, axis=0)\n",
    "        results[fname] = v\n",
    "for name_id,name in enumerate(list(meta['sample_id'].unique())):\n",
    "    import pyBigWig\n",
    "    from tqdm.auto import *\n",
    "    fname = f'{name}'\n",
    "    def process_df(df):\n",
    "        bw = f'/data/rzhang/data_15/colitisDSS/tissue/{fname}_TFBS.bigwig'\n",
    "        # print (bw)i\n",
    "        with pyBigWig.open(bw, 'r') as f:\n",
    "            v_cell = []\n",
    "            for chr,start,end in zip(tqdm(df[0], disable=True), df[1], df[2]):\n",
    "                center = (start + end) // 2\n",
    "                # v = f.values(chr, center, center+1, numpy=True)[0]\n",
    "                v = np.nan_to_num(f.values(chr, start, end, numpy=True))\n",
    "                v_cell.append(v)\n",
    "        return np.array(v_cell)\n",
    "    n = 2000  #chunk row size\n",
    "    list_df = [peak[i:i+n] for i in range(0,peak.shape[0],n)]\n",
    "    from tqdm.contrib.concurrent import process_map\n",
    "    v = process_map(process_df, list_df, max_workers=64)\n",
    "    v = np.concatenate(v, axis=0)\n",
    "    results[fname] = v"
   ]
  },
  {
   "cell_type": "code",
   "execution_count": 42,
   "id": "b0008511-fb29-4975-b339-a85f9952e8d0",
   "metadata": {
    "scrolled": true
   },
   "outputs": [
    {
     "name": "stdout",
     "output_type": "stream",
     "text": [
      "(127624, 300)\n"
     ]
    }
   ],
   "source": [
    "# average within each 10bp tiles\n",
    "import pyranges\n",
    "peak.columns = ['Chromosome','Start','End']\n",
    "temp = pyranges.PyRanges(peak)\n",
    "temp = temp.window(10)\n",
    "temp = temp.df\n",
    "temp.columns = ['chrom','start','end']\n",
    "temp['index3'] = np.arange(len(temp))\n",
    "peak.columns = ['chrom','start','end',]\n",
    "print (v.shape)\n",
    "for name in results:\n",
    "    v = results[name]\n",
    "    res = []\n",
    "    for i in range(30):\n",
    "        res.append(v[:, i*10:i*10+10].mean(axis=-1))\n",
    "    res = np.stack(res, axis=-1)\n",
    "    res = res.reshape((res.shape[0], -1)).reshape((-1))\n",
    "    # print (res.shape)\n",
    "    temp[name] = res"
   ]
  },
  {
   "cell_type": "code",
   "execution_count": 45,
   "id": "1d6bfc60-3a78-4855-9e73-87da2d854a30",
   "metadata": {},
   "outputs": [],
   "source": [
    "temp.to_csv(f'{work_dir}/denovo_cCRE_300bp_tile10bp_TFBS_raw.tsv.gz', sep='\\t', index=False)"
   ]
  },
  {
   "cell_type": "code",
   "execution_count": 46,
   "id": "b4aa0ea8-b113-43b0-87dc-24acdf6488ed",
   "metadata": {},
   "outputs": [],
   "source": [
    "import bioframe\n",
    "motif_match2 = motif_match[['chrom','start','end','TF']]\n",
    "ov = bioframe.overlap(motif_match2, temp)"
   ]
  },
  {
   "cell_type": "code",
   "execution_count": null,
   "id": "4ff276f9-1039-4f46-ba32-1b89fd2fb553",
   "metadata": {},
   "outputs": [],
   "source": [
    "\n",
    "TFBS = ov[~ov['chrom_'].isna()]\n",
    "TFBS"
   ]
  },
  {
   "cell_type": "code",
   "execution_count": 49,
   "id": "0e6f5d97-1142-47c7-8492-d0f2d5f6ef2d",
   "metadata": {},
   "outputs": [],
   "source": [
    "TFBS.to_csv(f'{work_dir}/denovo_cCRE_300bp_motifsites_TFBS_raw.tsv.gz', sep='\\t', index=False)"
   ]
  },
  {
   "cell_type": "code",
   "execution_count": null,
   "id": "c7b9c50e-ef98-477b-ab5a-0f26aac70ff6",
   "metadata": {},
   "outputs": [],
   "source": [
    "aggregated = TFBS[['TF'] + list(TFBS.columns[8:])].groupby('TF').mean()\n",
    "aggregated"
   ]
  },
  {
   "cell_type": "code",
   "execution_count": 52,
   "id": "99fb6cec-dcfb-477f-ab6d-c4d47fc32206",
   "metadata": {},
   "outputs": [],
   "source": [
    "aggregated.to_csv(f'{work_dir}/denovo_cCRE_300bp_TFBS_raw_aggregatedbyTF.tsv.gz', sep='\\t', index=False)"
   ]
  },
  {
   "cell_type": "code",
   "execution_count": 54,
   "id": "e4204b3e-256f-4c33-83e1-0d51213475a1",
   "metadata": {},
   "outputs": [],
   "source": [
    "temp = pd.read_csv(f'{work_dir}/denovo_cCRE_300bp_tile10bp_TFBS_raw.tsv.gz', sep='\\t')"
   ]
  },
  {
   "cell_type": "code",
   "execution_count": 55,
   "id": "384e66eb-ff95-4be9-bd78-87c1b9939b4b",
   "metadata": {},
   "outputs": [
    {
     "name": "stdout",
     "output_type": "stream",
     "text": [
      "895165\n"
     ]
    }
   ],
   "source": [
    "mask = np.max(np.array(temp.iloc[:, 4:]), axis=-1) >= 0.2\n",
    "print (np.sum(mask))\n",
    "temp = temp.loc[mask].copy()\n",
    "x1 = np.array(temp[temp.columns[4:]])\n",
    "from sklearn.preprocessing import quantile_transform\n",
    "x1 = quantile_transform(x1, axis=0, n_quantiles=100000)\n",
    "for i, cond1 in enumerate(temp.columns[4:]):\n",
    "    temp[cond1] = x1[:, i]"
   ]
  },
  {
   "cell_type": "code",
   "execution_count": 56,
   "id": "11dbf0e8-075a-4447-b831-6a1d01fd7db3",
   "metadata": {},
   "outputs": [],
   "source": [
    "temp.to_csv(f'{work_dir}/denovo_cCRE_300bp_tile10bp_TFBS_0.2filt_qtl.tsv.gz', sep='\\t', index=False)"
   ]
  },
  {
   "cell_type": "code",
   "execution_count": 58,
   "id": "b1071b1c-430d-4a95-a6bd-a31353c7c69b",
   "metadata": {},
   "outputs": [],
   "source": [
    "import bioframe\n",
    "motif_match2 = motif_match[['chrom','start','end','TF']]\n",
    "ov = bioframe.overlap(motif_match2, temp)"
   ]
  },
  {
   "cell_type": "code",
   "execution_count": null,
   "id": "51458604-dc91-443f-8fbf-f4a418feda85",
   "metadata": {
    "scrolled": true
   },
   "outputs": [],
   "source": [
    "\n",
    "TFBS = ov[~ov['chrom_'].isna()]\n",
    "TFBS"
   ]
  },
  {
   "cell_type": "code",
   "execution_count": 60,
   "id": "698bfdc9-f653-4a15-bfc9-8d35cc55f48e",
   "metadata": {},
   "outputs": [],
   "source": [
    "TFBS.to_csv(f'{work_dir}/denovo_cCRE_300bp_motifsites_TFBS_0.2filt_qtl.tsv.gz', sep='\\t', index=False)"
   ]
  },
  {
   "cell_type": "code",
   "execution_count": null,
   "id": "cb51ff10-7409-4cb7-bb6a-48dba8bdc0d7",
   "metadata": {},
   "outputs": [],
   "source": [
    "aggregated = TFBS[['TF'] + list(TFBS.columns[8:])].groupby('TF').mean()\n",
    "aggregated"
   ]
  },
  {
   "cell_type": "code",
   "execution_count": 63,
   "id": "964537db-f068-4394-954c-f6d2c79d9339",
   "metadata": {},
   "outputs": [],
   "source": [
    "aggregated.to_csv(f'{work_dir}/denovo_cCRE_300bp_TFBS_0.2filt_qtl_aggregatedbyTF.tsv.gz', sep='\\t', index=False)"
   ]
  },
  {
   "cell_type": "code",
   "execution_count": null,
   "id": "122906f8-ee50-4cc4-b3bb-b49431c10ada",
   "metadata": {},
   "outputs": [],
   "source": []
  },
  {
   "cell_type": "code",
   "execution_count": null,
   "id": "b57627f5-33bc-4de0-a3e2-1c22bd43cc80",
   "metadata": {},
   "outputs": [],
   "source": []
  }
 ],
 "metadata": {
  "kernelspec": {
   "display_name": "Python 3 (ipykernel)",
   "language": "python",
   "name": "python3"
  },
  "language_info": {
   "codemirror_mode": {
    "name": "ipython",
    "version": 3
   },
   "file_extension": ".py",
   "mimetype": "text/x-python",
   "name": "python",
   "nbconvert_exporter": "python",
   "pygments_lexer": "ipython3",
   "version": "3.11.11"
  }
 },
 "nbformat": 4,
 "nbformat_minor": 5
}
