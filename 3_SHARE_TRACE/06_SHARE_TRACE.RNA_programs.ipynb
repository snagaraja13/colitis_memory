{
 "cells": [
  {
   "cell_type": "markdown",
   "id": "5a46f2f3-6a73-4e86-a19f-3ae71efa320e",
   "metadata": {},
   "source": [
    "# Infer RNA topics"
   ]
  },
  {
   "cell_type": "code",
   "execution_count": null,
   "id": "306bf9f2-e212-4b07-b3d9-133fc62f984e",
   "metadata": {},
   "outputs": [],
   "source": [
    "%load_ext autoreload\n",
    "%autoreload 2\n",
    "    \n",
    "import os\n",
    "os.environ[\"RAY_TQDM_PATCH_PRINT\"]=\"0\"\n",
    "from umap import *\n",
    "import numpy as np\n",
    "import scprinter as scp\n",
    "import pandas as pd\n",
    "import seaborn as sns\n",
    "import matplotlib.pyplot as plt\n",
    "import time\n",
    "import pandas as pd\n",
    "import numpy as np\n",
    "import os\n",
    "import pickle\n",
    "import torch\n",
    "import matplotlib as mpl\n",
    "import scanpy as sc\n",
    "import anndata as ad\n",
    "from scmallet import *\n",
    "mpl.rcParams['pdf.fonttype'] = 42"
   ]
  },
  {
   "cell_type": "code",
   "execution_count": null,
   "id": "8ba7f2fd-7583-48ce-8ecd-5dae8a926b9b",
   "metadata": {},
   "outputs": [],
   "source": [
    "atac_adata = scp.pp.make_peak_matrix(printer, f'{work_dir}/{peak}', 300)"
   ]
  },
  {
   "cell_type": "code",
   "execution_count": 25,
   "id": "1204e3e3-1b3b-4d8d-be13-148450a7211b",
   "metadata": {},
   "outputs": [],
   "source": [
    "atac_adata.write(f'{work_dir}/cellxpeak.h5ad')"
   ]
  },
  {
   "cell_type": "code",
   "execution_count": 9,
   "id": "1df648f3-1cb1-4898-ae7d-7b604925d5b6",
   "metadata": {},
   "outputs": [],
   "source": [
    "atac_adata = ad.read_h5ad(f'{work_dir}/cellxpeak.h5ad')"
   ]
  },
  {
   "cell_type": "code",
   "execution_count": 10,
   "id": "d6698332-ff38-415a-bdc2-d6f133e91ce5",
   "metadata": {
    "scrolled": true
   },
   "outputs": [],
   "source": [
    "rna_adata = sc.read_mtx('/data/rzhang/data_15/colitisDSS/tissue/joint_topic/DSS-prim-merge10-RNA.raw_UMI.merged.converted_barcodes.mtx.gz')\n",
    "rna_adata = ad.AnnData(X = rna_adata.X.T)\n",
    "bc = [line.strip() for line in open('/data/rzhang/data_15/colitisDSS/tissue/joint_topic/DSS-prim-merge10-RNA.raw_UMI.merged.converted_barcodes.barcodes.list', 'r').readlines()]\n",
    "rna_adata.obs.index = bc\n",
    "bc = [line.strip() for line in open('/data/rzhang/data_15/colitisDSS/tissue/joint_topic/DSS-prim-merge10-RNA.raw_UMI.merged.converted_barcodes.genes.list', 'r').readlines()]\n",
    "rna_adata.var.index = bc"
   ]
  },
  {
   "cell_type": "code",
   "execution_count": 11,
   "id": "fc1978d6-d97d-47a7-bbd2-0bc532b20e59",
   "metadata": {},
   "outputs": [],
   "source": [
    "selected_gene = [line.strip() for line in open('/data/rzhang/data_15/colitisDSS/tissue/joint_topic/DSS-prim-merge10-RNA.thresh_0.5.genes.list' , 'r').readlines()]\n",
    "rna_adata = rna_adata[:, selected_gene].copy()"
   ]
  },
  {
   "cell_type": "code",
   "execution_count": 12,
   "id": "39730d28-afdc-4836-84aa-3387fc543a3a",
   "metadata": {},
   "outputs": [
    {
     "data": {
      "text/plain": [
       "AnnData object with n_obs × n_vars = 111877 × 13220"
      ]
     },
     "execution_count": 12,
     "metadata": {},
     "output_type": "execute_result"
    }
   ],
   "source": [
    "rna_adata"
   ]
  },
  {
   "cell_type": "code",
   "execution_count": 13,
   "id": "94ede3d1-74ad-4b37-af3d-66353f5169ee",
   "metadata": {},
   "outputs": [],
   "source": [
    "stem_bcs = [xx.strip() for xx in open('/data/rzhang/data_15/colitisDSS/tissue/joint_topic/DSS-prim-merge10.shared_stem_barcodes.list').readlines()]"
   ]
  },
  {
   "cell_type": "code",
   "execution_count": 15,
   "id": "d23cae71-db27-4473-bc84-b1eb18caeaa1",
   "metadata": {
    "scrolled": true
   },
   "outputs": [],
   "source": [
    "meta_cell = pd.read_csv('/data/rzhang/data_15/colitisDSS/tissue/joint_topic/DSS-prim-merge10-ATAC.qc_stats.singlet.txt', sep='\\t')\n",
    "shared = list(set(meta_cell['barcode']) &  set(atac_adata.obs.index)  & set(rna_adata.obs.index))"
   ]
  },
  {
   "cell_type": "code",
   "execution_count": 16,
   "id": "55f46caf-4dcd-45a5-a30d-6d0f9cec0aaf",
   "metadata": {
    "scrolled": true
   },
   "outputs": [],
   "source": [
    "atac_adata = atac_adata[shared].copy()\n",
    "rna_adata = rna_adata[shared].copy()"
   ]
  },
  {
   "cell_type": "code",
   "execution_count": 17,
   "id": "4a3f5f0a-bcf8-4514-a3c5-6b2a802ef544",
   "metadata": {},
   "outputs": [],
   "source": [
    "atac_adata.X.data = np.ones_like(atac_adata.X.data)"
   ]
  },
  {
   "cell_type": "code",
   "execution_count": 18,
   "id": "75401a21-f5f0-4fab-bf42-0c3577ea7a87",
   "metadata": {},
   "outputs": [
    {
     "data": {
      "text/plain": [
       "AnnData object with n_obs × n_vars = 52540 × 127624"
      ]
     },
     "execution_count": 18,
     "metadata": {},
     "output_type": "execute_result"
    }
   ],
   "source": [
    "atac_adata"
   ]
  },
  {
   "cell_type": "code",
   "execution_count": 19,
   "id": "7eebf3f4-f2dc-446c-9e84-2f042d1cd44a",
   "metadata": {},
   "outputs": [
    {
     "data": {
      "text/plain": [
       "AnnData object with n_obs × n_vars = 52540 × 13220"
      ]
     },
     "execution_count": 19,
     "metadata": {},
     "output_type": "execute_result"
    }
   ],
   "source": [
    "rna_adata"
   ]
  },
  {
   "cell_type": "code",
   "execution_count": 28,
   "id": "d44cc662-d94f-4733-9861-f4005b8e7ddc",
   "metadata": {},
   "outputs": [],
   "source": [
    "model = Mallet('/data/rzhang/data_15/colitisDSS/tissue/joint_topic/atac_cell_topics')\n",
    "for topic_num in [90][::-1]:\n",
    "    model.fit(topic_num,\n",
    "              atac_adata,\n",
    "              cpu_per_task=32,mem_gb=512,\n",
    "              iterations=500)\n",
    "\n",
    "region_topics = model.get_region_topics(90)\n",
    "cell_topics = model.get_cell_topics(90)\n",
    "region_topics.to_csv(f'/data/rzhang/data_15/colitisDSS/tissue/joint_topic/topic90_region_topics_ATAC.txt.gz', sep='\\t')\n",
    "cell_topics.to_csv(f'/data/rzhang/data_15/colitisDSS/tissue/joint_topic/topic90_cell_topics_ATAC.txt.gz', sep='\\t')\n"
   ]
  },
  {
   "cell_type": "code",
   "execution_count": 29,
   "id": "3c72f134-4331-4bde-b064-35e87c27a20e",
   "metadata": {},
   "outputs": [],
   "source": [
    "model = Mallet('/data/rzhang/data_15/colitisDSS/tissue/joint_topic/rna_cell_topics')\n",
    "for topic_num in [90][::-1]:\n",
    "    model.fit(topic_num,\n",
    "              rna_adata,\n",
    "              cpu_per_task=32,mem_gb=512,\n",
    "              iterations=500)\n",
    "xx = model.get_cell_topics(90)\n",
    "\n",
    "region_topics = model.get_region_topics(90)\n",
    "cell_topics = model.get_cell_topics(90)\n",
    "\n",
    "region_topics.to_csv(f'/data/rzhang/data_15/colitisDSS/tissue/joint_topic/topic90_region_topics_RNA.txt.gz', sep='\\t')\n",
    "cell_topics.to_csv(f'/data/rzhang/data_15/colitisDSS/tissue/joint_topic/topic90_cell_topics_RNA.txt.gz', sep='\\t')"
   ]
  },
  {
   "cell_type": "code",
   "execution_count": null,
   "id": "955193a3-fa2d-458e-bc46-c51205d8d10b",
   "metadata": {},
   "outputs": [],
   "source": []
  },
  {
   "cell_type": "code",
   "execution_count": null,
   "id": "6417620b-6849-470a-976d-99b08e6e425c",
   "metadata": {},
   "outputs": [],
   "source": []
  },
  {
   "cell_type": "code",
   "execution_count": null,
   "id": "caffa062-0fc0-4107-a9c8-ca2b4f16d380",
   "metadata": {},
   "outputs": [],
   "source": []
  }
 ],
 "metadata": {
  "kernelspec": {
   "display_name": "Python 3 (ipykernel)",
   "language": "python",
   "name": "python3"
  },
  "language_info": {
   "codemirror_mode": {
    "name": "ipython",
    "version": 3
   },
   "file_extension": ".py",
   "mimetype": "text/x-python",
   "name": "python",
   "nbconvert_exporter": "python",
   "pygments_lexer": "ipython3",
   "version": "3.11.11"
  }
 },
 "nbformat": 4,
 "nbformat_minor": 5
}
